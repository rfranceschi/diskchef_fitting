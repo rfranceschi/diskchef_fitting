{
 "cells": [
  {
   "cell_type": "code",
   "execution_count": 1,
   "metadata": {
    "collapsed": true,
    "ExecuteTime": {
     "end_time": "2023-10-25T16:19:23.441013Z",
     "start_time": "2023-10-25T16:19:20.245579Z"
    }
   },
   "outputs": [
    {
     "name": "stdout",
     "output_type": "stream",
     "text": [
      "Fast (Fortran90) Mie-scattering module could not be imported. Falling back to the slower Python version.\n"
     ]
    }
   ],
   "source": [
    "from diskchef import UVFits\n",
    "from pathlib import Path\n",
    "import astropy.units as u\n",
    "import pandas as pd"
   ]
  },
  {
   "cell_type": "code",
   "execution_count": 2,
   "outputs": [],
   "source": [
    "IMAGER_EXEC = \"bash -lc imager\""
   ],
   "metadata": {
    "collapsed": false,
    "ExecuteTime": {
     "end_time": "2023-10-25T16:19:23.441943Z",
     "start_time": "2023-10-25T16:19:23.413905Z"
    }
   }
  },
  {
   "cell_type": "markdown",
   "source": [
    "### Create fits files from observation uvtables"
   ],
   "metadata": {
    "collapsed": false
   }
  },
  {
   "cell_type": "code",
   "execution_count": 6,
   "outputs": [
    {
     "name": "stdout",
     "output_type": "stream",
     "text": [
      "CI Tau CO observations_new/CITau/CO_cut.uvfits True\n",
      "CI Tau 13CO observations_new/CITau/13CO_cut.uvfits True\n",
      "CI Tau C18O observations_new/CITau/C18O_cut.uvfits True\n"
     ]
    }
   ],
   "source": [
    "disks = [\"CI Tau\"]\n",
    "molecules = [\"CO\", \"13CO\", \"C18O\"]\n",
    "\n",
    "cubes_root = Path('observations_new')\n",
    "rows_list = []\n",
    "for disk in disks:\n",
    "    for molecule in molecules:\n",
    "        try:\n",
    "            fitsfiles = (cubes_root / disk.replace(\" \", \"\")).glob(f\"{molecule}_cut.uvfits\")\n",
    "            path = (cubes_root / disk.replace(\" \", \"\")).glob(f\"{molecule}_cut.uvfits\").__next__()\n",
    "            # fitsfiles = (cubes_root / disk.replace(\" \", \"\")).glob(f\"s-Line-*-{molecule}*.uvfits\")\n",
    "            # path = (cubes_root / disk.replace(\" \", \"\")).glob(f\"s-Line-*-{molecule}*.uvfits\").__next__()\n",
    "            print(disk, molecule, path, path.exists())\n",
    "            rows_list.append({\"disk\": disk, \"molecule\": molecule, \"path\": path})\n",
    "        except StopIteration:\n",
    "            path = None\n",
    "            print(disk, molecule, path, False)\n",
    "\n",
    "df = pd.DataFrame(rows_list)"
   ],
   "metadata": {
    "collapsed": false,
    "ExecuteTime": {
     "end_time": "2023-10-25T16:26:15.179899Z",
     "start_time": "2023-10-25T16:26:15.149499Z"
    }
   }
  },
  {
   "cell_type": "markdown",
   "source": [
    "### Do not use, the fits file are cut in the channel map and we would overwrite the result"
   ],
   "metadata": {
    "collapsed": false
   }
  },
  {
   "cell_type": "code",
   "execution_count": 4,
   "outputs": [
    {
     "name": "stdout",
     "output_type": "stream",
     "text": [
      "CO\n"
     ]
    },
    {
     "ename": "KeyboardInterrupt",
     "evalue": "",
     "output_type": "error",
     "traceback": [
      "\u001B[0;31m---------------------------------------------------------------------------\u001B[0m",
      "\u001B[0;31mKeyboardInterrupt\u001B[0m                         Traceback (most recent call last)",
      "Cell \u001B[0;32mIn[4], line 20\u001B[0m\n\u001B[1;32m      3\u001B[0m \u001B[38;5;28mprint\u001B[39m(_molecule)\n\u001B[1;32m      5\u001B[0m script \u001B[38;5;241m=\u001B[39m \u001B[38;5;28mstr\u001B[39m(\u001B[38;5;124m\"\"\"\u001B[39m\n\u001B[1;32m      6\u001B[0m \u001B[38;5;124m                    FITS \u001B[39m\u001B[38;5;124m\"\u001B[39m\u001B[38;5;132;01m{input_file}\u001B[39;00m\u001B[38;5;124m\"\u001B[39m\u001B[38;5;124m TO \u001B[39m\u001B[38;5;124m\"\u001B[39m\u001B[38;5;132;01m{name}\u001B[39;00m\u001B[38;5;124m\"\u001B[39m\n\u001B[1;32m      7\u001B[0m \u001B[38;5;124m                    READ UV \u001B[39m\u001B[38;5;124m\"\u001B[39m\u001B[38;5;132;01m{name}\u001B[39;00m\u001B[38;5;124m\"\u001B[39m\n\u001B[0;32m   (...)\u001B[0m\n\u001B[1;32m     17\u001B[0m \u001B[38;5;124m                    FITS \u001B[39m\u001B[38;5;124m\"\u001B[39m\u001B[38;5;132;01m{name}\u001B[39;00m\u001B[38;5;124m.fits\u001B[39m\u001B[38;5;124m\"\u001B[39m\u001B[38;5;124m FROM \u001B[39m\u001B[38;5;124m\"\u001B[39m\u001B[38;5;132;01m{name}\u001B[39;00m\u001B[38;5;124m.lmv-clean\u001B[39m\u001B[38;5;124m\"\u001B[39m\u001B[38;5;124m /OVERWRITE /STYLE CASA\u001B[39m\n\u001B[1;32m     18\u001B[0m \u001B[38;5;124m            \u001B[39m\u001B[38;5;124m\"\"\"\u001B[39m)\n\u001B[0;32m---> 20\u001B[0m \u001B[43mUVFits\u001B[49m\u001B[38;5;241;43m.\u001B[39;49m\u001B[43mrun_imaging\u001B[49m\u001B[43m(\u001B[49m\u001B[43m_path_uvfits\u001B[49m\u001B[43m,\u001B[49m\u001B[43m \u001B[49m\u001B[38;5;124;43mf\u001B[39;49m\u001B[38;5;124;43m\"\u001B[39;49m\u001B[38;5;132;43;01m{\u001B[39;49;00m\u001B[43m_molecule\u001B[49m\u001B[38;5;132;43;01m}\u001B[39;49;00m\u001B[38;5;124;43m_cut\u001B[39;49m\u001B[38;5;124;43m\"\u001B[39;49m\u001B[43m,\u001B[49m\u001B[43m \u001B[49m\u001B[43mimager_executable\u001B[49m\u001B[38;5;241;43m=\u001B[39;49m\u001B[43mIMAGER_EXEC\u001B[49m\u001B[43m,\u001B[49m\u001B[43m \u001B[49m\u001B[43mscript_template\u001B[49m\u001B[38;5;241;43m=\u001B[39;49m\u001B[43mscript\u001B[49m\u001B[43m,\u001B[49m\u001B[43m \u001B[49m\u001B[43mdevice\u001B[49m\u001B[38;5;241;43m=\u001B[39;49m\u001B[38;5;124;43m'\u001B[39;49m\u001B[38;5;124;43mpng\u001B[39;49m\u001B[38;5;124;43m'\u001B[39;49m\u001B[43m)\u001B[49m\n",
      "File \u001B[0;32m~/mysims/diskchef/diskchef/uv/uvfits_to_visibilities_ascii.py:574\u001B[0m, in \u001B[0;36mUVFits.run_imaging\u001B[0;34m(cls, input_file, name, imager_executable, script_template, script_filename, device, lut, **kwargs)\u001B[0m\n\u001B[1;32m    571\u001B[0m script_filename \u001B[38;5;241m=\u001B[39m Path(script_filename)\n\u001B[1;32m    572\u001B[0m input_file \u001B[38;5;241m=\u001B[39m Path(input_file)\n\u001B[0;32m--> 574\u001B[0m proc \u001B[38;5;241m=\u001B[39m \u001B[38;5;28;43mcls\u001B[39;49m\u001B[38;5;241;43m.\u001B[39;49m\u001B[43mrun_gildas_script\u001B[49m\u001B[43m(\u001B[49m\n\u001B[1;32m    575\u001B[0m \u001B[43m    \u001B[49m\u001B[43mscript\u001B[49m\u001B[38;5;241;43m=\u001B[39;49m\u001B[43mscript_template\u001B[49m\u001B[38;5;241;43m.\u001B[39;49m\u001B[43mformat\u001B[49m\u001B[43m(\u001B[49m\n\u001B[1;32m    576\u001B[0m \u001B[43m        \u001B[49m\u001B[43minput_file\u001B[49m\u001B[38;5;241;43m=\u001B[39;49m\u001B[43minput_file\u001B[49m\u001B[38;5;241;43m.\u001B[39;49m\u001B[43mname\u001B[49m\u001B[43m,\u001B[49m\n\u001B[1;32m    577\u001B[0m \u001B[43m        \u001B[49m\u001B[43mname\u001B[49m\u001B[38;5;241;43m=\u001B[39;49m\u001B[43mname\u001B[49m\u001B[43m,\u001B[49m\n\u001B[1;32m    578\u001B[0m \u001B[43m        \u001B[49m\u001B[43mlut\u001B[49m\u001B[38;5;241;43m=\u001B[39;49m\u001B[43mlut\u001B[49m\u001B[43m,\u001B[49m\n\u001B[1;32m    579\u001B[0m \u001B[43m        \u001B[49m\u001B[43mdevice\u001B[49m\u001B[38;5;241;43m=\u001B[39;49m\u001B[43mdevice\u001B[49m\u001B[43m,\u001B[49m\n\u001B[1;32m    580\u001B[0m \u001B[43m        \u001B[49m\u001B[38;5;241;43m*\u001B[39;49m\u001B[38;5;241;43m*\u001B[39;49m\u001B[43mkwargs\u001B[49m\n\u001B[1;32m    581\u001B[0m \u001B[43m    \u001B[49m\u001B[43m)\u001B[49m\u001B[43m,\u001B[49m\n\u001B[1;32m    582\u001B[0m \u001B[43m    \u001B[49m\u001B[43mgildas_executable\u001B[49m\u001B[38;5;241;43m=\u001B[39;49m\u001B[43mimager_executable\u001B[49m\u001B[43m,\u001B[49m\n\u001B[1;32m    583\u001B[0m \u001B[43m    \u001B[49m\u001B[43mscript_filename\u001B[49m\u001B[38;5;241;43m=\u001B[39;49m\u001B[43mscript_filename\u001B[49m\u001B[43m,\u001B[49m\n\u001B[1;32m    584\u001B[0m \u001B[43m    \u001B[49m\u001B[43mfolder\u001B[49m\u001B[38;5;241;43m=\u001B[39;49m\u001B[43minput_file\u001B[49m\u001B[38;5;241;43m.\u001B[39;49m\u001B[43mparent\u001B[49m\n\u001B[1;32m    585\u001B[0m \u001B[43m\u001B[49m\u001B[43m)\u001B[49m\n\u001B[1;32m    586\u001B[0m \u001B[38;5;28;01mreturn\u001B[39;00m proc\n",
      "File \u001B[0;32m~/mysims/diskchef/diskchef/uv/uvfits_to_visibilities_ascii.py:520\u001B[0m, in \u001B[0;36mUVFits.run_gildas_script\u001B[0;34m(cls, script, gildas_executable, script_filename, folder)\u001B[0m\n\u001B[1;32m    518\u001B[0m command \u001B[38;5;241m=\u001B[39m \u001B[38;5;124mf\u001B[39m\u001B[38;5;124m'\u001B[39m\u001B[38;5;124mcat \u001B[39m\u001B[38;5;124m\"\u001B[39m\u001B[38;5;132;01m{\u001B[39;00mscript_filename\u001B[38;5;241m.\u001B[39mresolve()\u001B[38;5;132;01m}\u001B[39;00m\u001B[38;5;124m\"\u001B[39m\u001B[38;5;124m | \u001B[39m\u001B[38;5;132;01m{\u001B[39;00mgildas_executable\u001B[38;5;132;01m}\u001B[39;00m\u001B[38;5;124m -nw\u001B[39m\u001B[38;5;124m'\u001B[39m\n\u001B[1;32m    519\u001B[0m logging\u001B[38;5;241m.\u001B[39mdebug(\u001B[38;5;124m\"\u001B[39m\u001B[38;5;132;01m%s\u001B[39;00m\u001B[38;5;124m$ \u001B[39m\u001B[38;5;132;01m%s\u001B[39;00m\u001B[38;5;124m\"\u001B[39m, folder, command)\n\u001B[0;32m--> 520\u001B[0m proc \u001B[38;5;241m=\u001B[39m \u001B[43msubprocess\u001B[49m\u001B[38;5;241;43m.\u001B[39;49m\u001B[43mrun\u001B[49m\u001B[43m(\u001B[49m\n\u001B[1;32m    521\u001B[0m \u001B[43m    \u001B[49m\u001B[43mcommand\u001B[49m\u001B[43m,\u001B[49m\n\u001B[1;32m    522\u001B[0m \u001B[43m    \u001B[49m\u001B[43mcapture_output\u001B[49m\u001B[38;5;241;43m=\u001B[39;49m\u001B[38;5;28;43;01mTrue\u001B[39;49;00m\u001B[43m,\u001B[49m\u001B[43m \u001B[49m\u001B[43mencoding\u001B[49m\u001B[38;5;241;43m=\u001B[39;49m\u001B[38;5;124;43m'\u001B[39;49m\u001B[38;5;124;43mutf8\u001B[39;49m\u001B[38;5;124;43m'\u001B[39;49m\u001B[43m,\u001B[49m\u001B[43m \u001B[49m\u001B[43mshell\u001B[49m\u001B[38;5;241;43m=\u001B[39;49m\u001B[38;5;28;43;01mTrue\u001B[39;49;00m\u001B[43m,\u001B[49m\n\u001B[1;32m    523\u001B[0m \u001B[43m    \u001B[49m\u001B[43mcwd\u001B[49m\u001B[38;5;241;43m=\u001B[39;49m\u001B[43mfolder\u001B[49m\n\u001B[1;32m    524\u001B[0m \u001B[43m\u001B[49m\u001B[43m)\u001B[49m\n\u001B[1;32m    525\u001B[0m \u001B[38;5;28;01mreturn\u001B[39;00m proc\n",
      "File \u001B[0;32m~/opt/anaconda3/envs/diskchef/lib/python3.9/subprocess.py:507\u001B[0m, in \u001B[0;36mrun\u001B[0;34m(input, capture_output, timeout, check, *popenargs, **kwargs)\u001B[0m\n\u001B[1;32m    505\u001B[0m \u001B[38;5;28;01mwith\u001B[39;00m Popen(\u001B[38;5;241m*\u001B[39mpopenargs, \u001B[38;5;241m*\u001B[39m\u001B[38;5;241m*\u001B[39mkwargs) \u001B[38;5;28;01mas\u001B[39;00m process:\n\u001B[1;32m    506\u001B[0m     \u001B[38;5;28;01mtry\u001B[39;00m:\n\u001B[0;32m--> 507\u001B[0m         stdout, stderr \u001B[38;5;241m=\u001B[39m \u001B[43mprocess\u001B[49m\u001B[38;5;241;43m.\u001B[39;49m\u001B[43mcommunicate\u001B[49m\u001B[43m(\u001B[49m\u001B[38;5;28;43minput\u001B[39;49m\u001B[43m,\u001B[49m\u001B[43m \u001B[49m\u001B[43mtimeout\u001B[49m\u001B[38;5;241;43m=\u001B[39;49m\u001B[43mtimeout\u001B[49m\u001B[43m)\u001B[49m\n\u001B[1;32m    508\u001B[0m     \u001B[38;5;28;01mexcept\u001B[39;00m TimeoutExpired \u001B[38;5;28;01mas\u001B[39;00m exc:\n\u001B[1;32m    509\u001B[0m         process\u001B[38;5;241m.\u001B[39mkill()\n",
      "File \u001B[0;32m~/opt/anaconda3/envs/diskchef/lib/python3.9/subprocess.py:1134\u001B[0m, in \u001B[0;36mPopen.communicate\u001B[0;34m(self, input, timeout)\u001B[0m\n\u001B[1;32m   1131\u001B[0m     endtime \u001B[38;5;241m=\u001B[39m \u001B[38;5;28;01mNone\u001B[39;00m\n\u001B[1;32m   1133\u001B[0m \u001B[38;5;28;01mtry\u001B[39;00m:\n\u001B[0;32m-> 1134\u001B[0m     stdout, stderr \u001B[38;5;241m=\u001B[39m \u001B[38;5;28;43mself\u001B[39;49m\u001B[38;5;241;43m.\u001B[39;49m\u001B[43m_communicate\u001B[49m\u001B[43m(\u001B[49m\u001B[38;5;28;43minput\u001B[39;49m\u001B[43m,\u001B[49m\u001B[43m \u001B[49m\u001B[43mendtime\u001B[49m\u001B[43m,\u001B[49m\u001B[43m \u001B[49m\u001B[43mtimeout\u001B[49m\u001B[43m)\u001B[49m\n\u001B[1;32m   1135\u001B[0m \u001B[38;5;28;01mexcept\u001B[39;00m \u001B[38;5;167;01mKeyboardInterrupt\u001B[39;00m:\n\u001B[1;32m   1136\u001B[0m     \u001B[38;5;66;03m# https://bugs.python.org/issue25942\u001B[39;00m\n\u001B[1;32m   1137\u001B[0m     \u001B[38;5;66;03m# See the detailed comment in .wait().\u001B[39;00m\n\u001B[1;32m   1138\u001B[0m     \u001B[38;5;28;01mif\u001B[39;00m timeout \u001B[38;5;129;01mis\u001B[39;00m \u001B[38;5;129;01mnot\u001B[39;00m \u001B[38;5;28;01mNone\u001B[39;00m:\n",
      "File \u001B[0;32m~/opt/anaconda3/envs/diskchef/lib/python3.9/subprocess.py:1979\u001B[0m, in \u001B[0;36mPopen._communicate\u001B[0;34m(self, input, endtime, orig_timeout)\u001B[0m\n\u001B[1;32m   1972\u001B[0m     \u001B[38;5;28mself\u001B[39m\u001B[38;5;241m.\u001B[39m_check_timeout(endtime, orig_timeout,\n\u001B[1;32m   1973\u001B[0m                         stdout, stderr,\n\u001B[1;32m   1974\u001B[0m                         skip_check_and_raise\u001B[38;5;241m=\u001B[39m\u001B[38;5;28;01mTrue\u001B[39;00m)\n\u001B[1;32m   1975\u001B[0m     \u001B[38;5;28;01mraise\u001B[39;00m \u001B[38;5;167;01mRuntimeError\u001B[39;00m(  \u001B[38;5;66;03m# Impossible :)\u001B[39;00m\n\u001B[1;32m   1976\u001B[0m         \u001B[38;5;124m'\u001B[39m\u001B[38;5;124m_check_timeout(..., skip_check_and_raise=True) \u001B[39m\u001B[38;5;124m'\u001B[39m\n\u001B[1;32m   1977\u001B[0m         \u001B[38;5;124m'\u001B[39m\u001B[38;5;124mfailed to raise TimeoutExpired.\u001B[39m\u001B[38;5;124m'\u001B[39m)\n\u001B[0;32m-> 1979\u001B[0m ready \u001B[38;5;241m=\u001B[39m \u001B[43mselector\u001B[49m\u001B[38;5;241;43m.\u001B[39;49m\u001B[43mselect\u001B[49m\u001B[43m(\u001B[49m\u001B[43mtimeout\u001B[49m\u001B[43m)\u001B[49m\n\u001B[1;32m   1980\u001B[0m \u001B[38;5;28mself\u001B[39m\u001B[38;5;241m.\u001B[39m_check_timeout(endtime, orig_timeout, stdout, stderr)\n\u001B[1;32m   1982\u001B[0m \u001B[38;5;66;03m# XXX Rewrite these to use non-blocking I/O on the file\u001B[39;00m\n\u001B[1;32m   1983\u001B[0m \u001B[38;5;66;03m# objects; they are no longer using C stdio!\u001B[39;00m\n",
      "File \u001B[0;32m~/opt/anaconda3/envs/diskchef/lib/python3.9/selectors.py:416\u001B[0m, in \u001B[0;36m_PollLikeSelector.select\u001B[0;34m(self, timeout)\u001B[0m\n\u001B[1;32m    414\u001B[0m ready \u001B[38;5;241m=\u001B[39m []\n\u001B[1;32m    415\u001B[0m \u001B[38;5;28;01mtry\u001B[39;00m:\n\u001B[0;32m--> 416\u001B[0m     fd_event_list \u001B[38;5;241m=\u001B[39m \u001B[38;5;28;43mself\u001B[39;49m\u001B[38;5;241;43m.\u001B[39;49m\u001B[43m_selector\u001B[49m\u001B[38;5;241;43m.\u001B[39;49m\u001B[43mpoll\u001B[49m\u001B[43m(\u001B[49m\u001B[43mtimeout\u001B[49m\u001B[43m)\u001B[49m\n\u001B[1;32m    417\u001B[0m \u001B[38;5;28;01mexcept\u001B[39;00m \u001B[38;5;167;01mInterruptedError\u001B[39;00m:\n\u001B[1;32m    418\u001B[0m     \u001B[38;5;28;01mreturn\u001B[39;00m ready\n",
      "\u001B[0;31mKeyboardInterrupt\u001B[0m: "
     ]
    }
   ],
   "source": [
    "for _path_uvfits in df['path']:\n",
    "    _molecule = df[df['path'] == _path_uvfits]['molecule'].values[0]\n",
    "    print(_molecule)\n",
    "\n",
    "    script = str(\"\"\"\n",
    "                        FITS \"{input_file}\" TO \"{name}\"\n",
    "                        READ UV \"{name}\"\n",
    "                        UV_MAP\n",
    "                        CLEAN\n",
    "                        LUT {lut}\n",
    "                        ! VIEW CLEAN /NOPAUSE\n",
    "                        LET SIZE 10\n",
    "                        LET DO_CONTOUR NO\n",
    "                        SHOW CLEAN\n",
    "                        HARDCOPY \"{name}.{device}\" /DEVICE {device} /OVERWRITE\n",
    "                        WRITE CLEAN {name}\n",
    "                        FITS \"{name}.fits\" FROM \"{name}.lmv-clean\" /OVERWRITE /STYLE CASA\n",
    "                \"\"\")\n",
    "\n",
    "    UVFits.run_imaging(_path_uvfits, f\"{_molecule}_cut\", imager_executable=IMAGER_EXEC, script_template=script, device='png')"
   ],
   "metadata": {
    "collapsed": false,
    "ExecuteTime": {
     "end_time": "2023-10-25T16:26:00.487196Z",
     "start_time": "2023-10-25T16:25:56.103148Z"
    }
   }
  },
  {
   "cell_type": "markdown",
   "source": [
    "### Add visibility to the model fits from the corresponding observation file, and create convolved model fits files"
   ],
   "metadata": {
    "collapsed": false
   }
  },
  {
   "cell_type": "markdown",
   "source": [
    "# Probably not needed\n",
    "### Create uvfits from uvt"
   ],
   "metadata": {
    "collapsed": false,
    "ExecuteTime": {
     "start_time": "2023-04-28T11:58:26.750712Z",
     "end_time": "2023-04-28T11:58:35.268698Z"
    }
   }
  },
  {
   "cell_type": "code",
   "execution_count": null,
   "outputs": [],
   "source": [
    "# from diskchef import UVFits\n",
    "# script = str(\"\"\"\n",
    "#                         READ UV \"{input_file}\"\n",
    "#                         UV_MAP\n",
    "#                         CLEAN\n",
    "#                         LUT {lut}\n",
    "#                         ! VIEW CLEAN /NOPAUSE\n",
    "#                         LET SIZE 10\n",
    "#                         LET DO_CONTOUR NO\n",
    "#                         SHOW CLEAN\n",
    "#                         HARDCOPY \"{name}.{device}\" /DEVICE {device} /OVERWRITE\n",
    "#                         WRITE UV \"{name}\"\n",
    "#                         FITS \"{name}.uvfits\" FROM \"{name}.uvt\" /OVERWRITE\n",
    "#\n",
    "#                 \"\"\")\n",
    "#\n",
    "# model_visibilities = 'observations_test/DNTau/s-Line-22-CO_1+D_cut.uvt'\n",
    "# output = 'observations_test/DANTau/s-Line-22-CO_1+D_cut.uvt'\n",
    "# UVFits.run_imaging(model_visibilities, output, imager_executable=IMAGER_EXEC, script_template=script, device='png',)"
   ],
   "metadata": {
    "collapsed": false,
    "ExecuteTime": {
     "start_time": "2023-04-24T10:35:48.697260Z",
     "end_time": "2023-04-24T10:35:48.698699Z"
    }
   }
  },
  {
   "cell_type": "code",
   "execution_count": null,
   "outputs": [],
   "source": [
    "# script = str(\"\"\"\n",
    "#                         FITS \"{input_file}\" TO \"{name}\"\n",
    "#                         READ UV \"{name}\"\n",
    "#                         UV_MAP\n",
    "#                         CLEAN\n",
    "#                         LUT {lut}\n",
    "#                         ! VIEW CLEAN /NOPAUSE\n",
    "#                         LET SIZE 10\n",
    "#                         LET DO_CONTOUR NO\n",
    "#                         LET SCALE -0.05 0.45\n",
    "#                         SHOW CLEAN\n",
    "#                         HARDCOPY \"{name}.{device}\" /DEVICE {device} /OVERWRITE\n",
    "#\n",
    "#                 \"\"\")\n",
    "#\n",
    "# input = Path(\"/Users/franceschi/mysims/diskchef_fitting_greg/fit/best_fit_zq_4/CO_cut.fits\")\n",
    "# output = Path(\"/Users/franceschi/mysims/diskchef_fitting_greg/fit/best_fit_zq_4/CO_convolved\")\n",
    "# UVFits.run_imaging(input, output, imager_executable=IMAGER_EXEC, script_template=script, device='png',)"
   ],
   "metadata": {
    "collapsed": false,
    "ExecuteTime": {
     "start_time": "2023-04-24T10:35:48.701042Z",
     "end_time": "2023-04-24T10:35:48.703807Z"
    }
   }
  }
 ],
 "metadata": {
  "kernelspec": {
   "name": "diskchef",
   "language": "python",
   "display_name": "diskchef"
  },
  "language_info": {
   "codemirror_mode": {
    "name": "ipython",
    "version": 2
   },
   "file_extension": ".py",
   "mimetype": "text/x-python",
   "name": "python",
   "nbconvert_exporter": "python",
   "pygments_lexer": "ipython2",
   "version": "2.7.6"
  }
 },
 "nbformat": 4,
 "nbformat_minor": 0
}
