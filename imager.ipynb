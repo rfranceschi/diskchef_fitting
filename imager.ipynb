{
 "cells": [
  {
   "cell_type": "code",
   "execution_count": 26,
   "metadata": {
    "collapsed": true,
    "ExecuteTime": {
     "end_time": "2023-10-26T12:44:37.219843Z",
     "start_time": "2023-10-26T12:44:37.213979Z"
    }
   },
   "outputs": [],
   "source": [
    "import pickle as pkl\n",
    "from diskchef import UVFits\n",
    "from pathlib import Path\n",
    "import astropy.units as u\n",
    "\n",
    "\n",
    "IMAGER_EXEC = \"bash -lc imager\""
   ]
  },
  {
   "cell_type": "markdown",
   "source": [
    "### Create uvfits file from the model output fits file using the information in the observation uvfits files\n"
   ],
   "metadata": {
    "collapsed": false
   }
  },
  {
   "cell_type": "code",
   "execution_count": 33,
   "outputs": [
    {
     "name": "stdout",
     "output_type": "stream",
     "text": [
      "/Users/franceschi/mysims/diskchef_fitting_greg/Reference/TEST_DMTau_200_-1.4_31_21_0.55/CO_cut_visibilities.uvfits\n",
      "/Users/franceschi/mysims/diskchef_fitting_greg/Reference/TEST_DMTau_200_-1.4_31_21_0.55/13CO_cut_visibilities.uvfits\n",
      "/Users/franceschi/mysims/diskchef_fitting_greg/Reference/TEST_DMTau_200_-1.4_31_21_0.55/C18O_cut_visibilities.uvfits\n"
     ]
    }
   ],
   "source": [
    "# data_to_write = Path('Reference/CITau_100_-2_40_30_0.55/radmc_gas/CO J=2-1_image.fits')\n",
    "disk = \"DMTau\"\n",
    "for mol in [\"CO\", \"13CO\", \"C18O\"]:\n",
    "    script = str(\"\"\"\n",
    "                            FITS \"{input_file}\" TO \"{name}\"\n",
    "                            READ UV \"{name}\"\n",
    "                            UV_MAP\n",
    "                            CLEAN\n",
    "                            LUT {lut}\n",
    "                            ! VIEW CLEAN /NOPAUSE\n",
    "                            LET SIZE 10\n",
    "                            LET DO_CONTOUR NO\n",
    "                            SHOW CLEAN\n",
    "                            HARDCOPY \"{name}.{device}\" /DEVICE {device} /OVERWRITE\n",
    "                            WRITE CLEAN imaged\n",
    "                            FITS \"{name}.fits\" from imaged.lmv-clean /OVERWRITE\n",
    "\n",
    "                    \"\"\")\n",
    "# DLTau_600_-1.3_38_10_0.55\n",
    "#     for res in ['', '_residuals']:\n",
    "    for res in ['']:\n",
    "        data_to_write = Path(\n",
    "            f'/Users/franceschi/mysims/diskchef_fitting_greg/Reference/TEST_DMTau_200_-1.4_31_21_0.55/radmc_gas/{mol} '\n",
    "            f'J=2-1_image'\n",
    "            f'.fits'\n",
    "        )\n",
    "        file_to_modify = Path(f'observations_new/{disk}/{mol}_cut.uvfits')\n",
    "        output = data_to_write.parents[1]  / f'{file_to_modify.stem}_visibilities{res}.uvfits'\n",
    "        _res = False\n",
    "        if res == '_residuals':\n",
    "            _res = True\n",
    "        UVFits.write_visibilities_to_uvfits(data_to_write, file_to_modify, output, residual=_res)\n",
    "        UVFits.run_imaging(output, f'{mol}_cut{res}', imager_executable=IMAGER_EXEC, script_template=script, device='png')\n",
    "        print(output)"
   ],
   "metadata": {
    "collapsed": false,
    "ExecuteTime": {
     "end_time": "2023-10-26T15:01:14.041666Z",
     "start_time": "2023-10-26T15:00:53.270732Z"
    }
   }
  },
  {
   "cell_type": "markdown",
   "source": [
    "First write the visibilities from the observations to the model fits file `write_visibilities_to_uvfits`\n",
    "Then it convolves it like if it was observed"
   ],
   "metadata": {
    "collapsed": false
   }
  },
  {
   "cell_type": "code",
   "execution_count": 188,
   "outputs": [
    {
     "ename": "FileNotFoundError",
     "evalue": "[Errno 2] No such file or directory: 'Reference/CITau_200_-2.6_60_7_0.55'",
     "output_type": "error",
     "traceback": [
      "\u001B[0;31m---------------------------------------------------------------------------\u001B[0m",
      "\u001B[0;31mFileNotFoundError\u001B[0m                         Traceback (most recent call last)",
      "Cell \u001B[0;32mIn[188], line 6\u001B[0m\n\u001B[1;32m      3\u001B[0m file_to_modify \u001B[38;5;241m=\u001B[39m Path(\u001B[38;5;124m'\u001B[39m\u001B[38;5;124mobservations_new/CITau/CO_cut.uvfits\u001B[39m\u001B[38;5;124m'\u001B[39m)\n\u001B[1;32m      5\u001B[0m model_visibilities \u001B[38;5;241m=\u001B[39m data_to_write\u001B[38;5;241m.\u001B[39mparents[\u001B[38;5;241m1\u001B[39m]  \u001B[38;5;241m/\u001B[39m \u001B[38;5;124mf\u001B[39m\u001B[38;5;124m'\u001B[39m\u001B[38;5;132;01m{\u001B[39;00mdata_to_write\u001B[38;5;241m.\u001B[39mstem\u001B[38;5;132;01m}\u001B[39;00m\u001B[38;5;124m_visibilities.uvfits\u001B[39m\u001B[38;5;124m'\u001B[39m\n\u001B[0;32m----> 6\u001B[0m \u001B[43mUVFits\u001B[49m\u001B[38;5;241;43m.\u001B[39;49m\u001B[43mwrite_visibilities_to_uvfits\u001B[49m\u001B[43m(\u001B[49m\u001B[43mdata_to_write\u001B[49m\u001B[43m,\u001B[49m\u001B[43m \u001B[49m\u001B[43mfile_to_modify\u001B[49m\u001B[43m,\u001B[49m\u001B[43m \u001B[49m\u001B[43mmodel_visibilities\u001B[49m\u001B[43m)\u001B[49m\n\u001B[1;32m      8\u001B[0m script \u001B[38;5;241m=\u001B[39m \u001B[38;5;28mstr\u001B[39m(\u001B[38;5;124m\"\"\"\u001B[39m\n\u001B[1;32m      9\u001B[0m \u001B[38;5;124m                        FITS \u001B[39m\u001B[38;5;124m\"\u001B[39m\u001B[38;5;132;01m{input_file}\u001B[39;00m\u001B[38;5;124m\"\u001B[39m\u001B[38;5;124m TO \u001B[39m\u001B[38;5;124m\"\u001B[39m\u001B[38;5;132;01m{name}\u001B[39;00m\u001B[38;5;124m\"\u001B[39m\n\u001B[1;32m     10\u001B[0m \u001B[38;5;124m                        READ UV \u001B[39m\u001B[38;5;124m\"\u001B[39m\u001B[38;5;132;01m{name}\u001B[39;00m\u001B[38;5;124m\"\u001B[39m\n\u001B[0;32m   (...)\u001B[0m\n\u001B[1;32m     21\u001B[0m \n\u001B[1;32m     22\u001B[0m \u001B[38;5;124m                \u001B[39m\u001B[38;5;124m\"\"\"\u001B[39m)\n\u001B[1;32m     25\u001B[0m UVFits\u001B[38;5;241m.\u001B[39mrun_imaging(model_visibilities, \u001B[38;5;124m'\u001B[39m\u001B[38;5;124mCO_cut\u001B[39m\u001B[38;5;124m'\u001B[39m, imager_executable\u001B[38;5;241m=\u001B[39mIMAGER_EXEC, script_template\u001B[38;5;241m=\u001B[39mscript, device\u001B[38;5;241m=\u001B[39m\u001B[38;5;124m'\u001B[39m\u001B[38;5;124mpng\u001B[39m\u001B[38;5;124m'\u001B[39m)\n",
      "File \u001B[0;32m~/mysims/diskchef/diskchef/uv/uvfits_to_visibilities_ascii.py:472\u001B[0m, in \u001B[0;36mUVFits.write_visibilities_to_uvfits\u001B[0;34m(cls, data_to_write, file_to_modify, output_filename, uv_kwargs, residual)\u001B[0m\n\u001B[1;32m    469\u001B[0m     output_filename \u001B[38;5;241m=\u001B[39m Path(\u001B[38;5;124mf\u001B[39m\u001B[38;5;124m\"\u001B[39m\u001B[38;5;132;01m{\u001B[39;00mfile_to_modify\u001B[38;5;132;01m}\u001B[39;00m\u001B[38;5;124m.modified.uvfits\u001B[39m\u001B[38;5;124m\"\u001B[39m)\n\u001B[1;32m    471\u001B[0m \u001B[38;5;28;01mif\u001B[39;00m \u001B[38;5;129;01mnot\u001B[39;00m \u001B[38;5;28misinstance\u001B[39m(data_to_write, spectral_cube\u001B[38;5;241m.\u001B[39mSpectralCube):\n\u001B[0;32m--> 472\u001B[0m     data_to_write \u001B[38;5;241m=\u001B[39m \u001B[43mspectral_cube\u001B[49m\u001B[38;5;241;43m.\u001B[39;49m\u001B[43mSpectralCube\u001B[49m\u001B[38;5;241;43m.\u001B[39;49m\u001B[43mread\u001B[49m\u001B[43m(\u001B[49m\u001B[43mdata_to_write\u001B[49m\u001B[43m)\u001B[49m\n\u001B[1;32m    474\u001B[0m uvfits \u001B[38;5;241m=\u001B[39m \u001B[38;5;28mcls\u001B[39m(file_to_modify, \u001B[38;5;241m*\u001B[39m\u001B[38;5;241m*\u001B[39muv_kwargs)\n\u001B[1;32m    475\u001B[0m uvfits\u001B[38;5;241m.\u001B[39mimage_to_visibilities(\n\u001B[1;32m    476\u001B[0m     data_to_write\u001B[38;5;241m.\u001B[39mspectral_interpolate(uvfits\u001B[38;5;241m.\u001B[39mfrequencies)\n\u001B[1;32m    477\u001B[0m )\n",
      "File \u001B[0;32m~/opt/anaconda3/envs/diskchef/lib/python3.9/site-packages/spectral_cube/io/core.py:118\u001B[0m, in \u001B[0;36mSpectralCubeRead.__call__\u001B[0;34m(self, filename, *args, **kwargs)\u001B[0m\n\u001B[1;32m    116\u001B[0m kwargs[\u001B[38;5;124m'\u001B[39m\u001B[38;5;124mtarget_cls\u001B[39m\u001B[38;5;124m'\u001B[39m] \u001B[38;5;241m=\u001B[39m BaseSpectralCube\n\u001B[1;32m    117\u001B[0m \u001B[38;5;28;01mtry\u001B[39;00m:\n\u001B[0;32m--> 118\u001B[0m     \u001B[38;5;28;01mreturn\u001B[39;00m \u001B[43mregistry\u001B[49m\u001B[38;5;241;43m.\u001B[39;49m\u001B[43mread\u001B[49m\u001B[43m(\u001B[49m\u001B[43mBaseSpectralCube\u001B[49m\u001B[43m,\u001B[49m\u001B[43m \u001B[49m\u001B[43mfilename\u001B[49m\u001B[43m,\u001B[49m\u001B[43m \u001B[49m\u001B[38;5;241;43m*\u001B[39;49m\u001B[43margs\u001B[49m\u001B[43m,\u001B[49m\u001B[43m \u001B[49m\u001B[38;5;241;43m*\u001B[39;49m\u001B[38;5;241;43m*\u001B[39;49m\u001B[43mkwargs\u001B[49m\u001B[43m)\u001B[49m\n\u001B[1;32m    119\u001B[0m \u001B[38;5;28;01mexcept\u001B[39;00m \u001B[38;5;167;01mIsADirectoryError\u001B[39;00m:  \u001B[38;5;66;03m# See note above StringWrapper\u001B[39;00m\n\u001B[1;32m    120\u001B[0m     \u001B[38;5;28;01mreturn\u001B[39;00m registry\u001B[38;5;241m.\u001B[39mread(BaseSpectralCube, StringWrapper(filename), \u001B[38;5;241m*\u001B[39margs, \u001B[38;5;241m*\u001B[39m\u001B[38;5;241m*\u001B[39mkwargs)\n",
      "File \u001B[0;32m~/opt/anaconda3/envs/diskchef/lib/python3.9/site-packages/astropy/io/registry/compat.py:52\u001B[0m, in \u001B[0;36m_make_io_func.<locals>.wrapper\u001B[0;34m(registry, *args, **kwargs)\u001B[0m\n\u001B[1;32m     50\u001B[0m     registry \u001B[38;5;241m=\u001B[39m default_registry\n\u001B[1;32m     51\u001B[0m \u001B[38;5;66;03m# get and call bound method from registry instance\u001B[39;00m\n\u001B[0;32m---> 52\u001B[0m \u001B[38;5;28;01mreturn\u001B[39;00m \u001B[38;5;28;43mgetattr\u001B[39;49m\u001B[43m(\u001B[49m\u001B[43mregistry\u001B[49m\u001B[43m,\u001B[49m\u001B[43m \u001B[49m\u001B[43mmethod_name\u001B[49m\u001B[43m)\u001B[49m\u001B[43m(\u001B[49m\u001B[38;5;241;43m*\u001B[39;49m\u001B[43margs\u001B[49m\u001B[43m,\u001B[49m\u001B[43m \u001B[49m\u001B[38;5;241;43m*\u001B[39;49m\u001B[38;5;241;43m*\u001B[39;49m\u001B[43mkwargs\u001B[49m\u001B[43m)\u001B[49m\n",
      "File \u001B[0;32m~/opt/anaconda3/envs/diskchef/lib/python3.9/site-packages/astropy/io/registry/core.py:203\u001B[0m, in \u001B[0;36mUnifiedInputRegistry.read\u001B[0;34m(self, cls, format, cache, *args, **kwargs)\u001B[0m\n\u001B[1;32m    199\u001B[0m \u001B[38;5;28;01mtry\u001B[39;00m:\n\u001B[1;32m    200\u001B[0m     ctx \u001B[38;5;241m=\u001B[39m get_readable_fileobj(\n\u001B[1;32m    201\u001B[0m         args[\u001B[38;5;241m0\u001B[39m], encoding\u001B[38;5;241m=\u001B[39m\u001B[38;5;124m\"\u001B[39m\u001B[38;5;124mbinary\u001B[39m\u001B[38;5;124m\"\u001B[39m, cache\u001B[38;5;241m=\u001B[39mcache\n\u001B[1;32m    202\u001B[0m     )\n\u001B[0;32m--> 203\u001B[0m     fileobj \u001B[38;5;241m=\u001B[39m \u001B[43mctx\u001B[49m\u001B[38;5;241;43m.\u001B[39;49m\u001B[38;5;21;43m__enter__\u001B[39;49m\u001B[43m(\u001B[49m\u001B[43m)\u001B[49m\n\u001B[1;32m    204\u001B[0m \u001B[38;5;28;01mexcept\u001B[39;00m \u001B[38;5;167;01mOSError\u001B[39;00m:\n\u001B[1;32m    205\u001B[0m     \u001B[38;5;28;01mraise\u001B[39;00m\n",
      "File \u001B[0;32m~/opt/anaconda3/envs/diskchef/lib/python3.9/contextlib.py:119\u001B[0m, in \u001B[0;36m_GeneratorContextManager.__enter__\u001B[0;34m(self)\u001B[0m\n\u001B[1;32m    117\u001B[0m \u001B[38;5;28;01mdel\u001B[39;00m \u001B[38;5;28mself\u001B[39m\u001B[38;5;241m.\u001B[39margs, \u001B[38;5;28mself\u001B[39m\u001B[38;5;241m.\u001B[39mkwds, \u001B[38;5;28mself\u001B[39m\u001B[38;5;241m.\u001B[39mfunc\n\u001B[1;32m    118\u001B[0m \u001B[38;5;28;01mtry\u001B[39;00m:\n\u001B[0;32m--> 119\u001B[0m     \u001B[38;5;28;01mreturn\u001B[39;00m \u001B[38;5;28;43mnext\u001B[39;49m\u001B[43m(\u001B[49m\u001B[38;5;28;43mself\u001B[39;49m\u001B[38;5;241;43m.\u001B[39;49m\u001B[43mgen\u001B[49m\u001B[43m)\u001B[49m\n\u001B[1;32m    120\u001B[0m \u001B[38;5;28;01mexcept\u001B[39;00m \u001B[38;5;167;01mStopIteration\u001B[39;00m:\n\u001B[1;32m    121\u001B[0m     \u001B[38;5;28;01mraise\u001B[39;00m \u001B[38;5;167;01mRuntimeError\u001B[39;00m(\u001B[38;5;124m\"\u001B[39m\u001B[38;5;124mgenerator didn\u001B[39m\u001B[38;5;124m'\u001B[39m\u001B[38;5;124mt yield\u001B[39m\u001B[38;5;124m\"\u001B[39m) \u001B[38;5;28;01mfrom\u001B[39;00m \u001B[38;5;28mNone\u001B[39m\n",
      "File \u001B[0;32m~/opt/anaconda3/envs/diskchef/lib/python3.9/site-packages/astropy/utils/data.py:353\u001B[0m, in \u001B[0;36mget_readable_fileobj\u001B[0;34m(name_or_obj, encoding, cache, show_progress, remote_timeout, sources, http_headers, use_fsspec, fsspec_kwargs, close_files)\u001B[0m\n\u001B[1;32m    344\u001B[0m \u001B[38;5;28;01mif\u001B[39;00m is_url:\n\u001B[1;32m    345\u001B[0m     name_or_obj \u001B[38;5;241m=\u001B[39m download_file(\n\u001B[1;32m    346\u001B[0m         name_or_obj,\n\u001B[1;32m    347\u001B[0m         cache\u001B[38;5;241m=\u001B[39mcache,\n\u001B[0;32m   (...)\u001B[0m\n\u001B[1;32m    351\u001B[0m         http_headers\u001B[38;5;241m=\u001B[39mhttp_headers,\n\u001B[1;32m    352\u001B[0m     )\n\u001B[0;32m--> 353\u001B[0m fileobj \u001B[38;5;241m=\u001B[39m \u001B[43mio\u001B[49m\u001B[38;5;241;43m.\u001B[39;49m\u001B[43mFileIO\u001B[49m\u001B[43m(\u001B[49m\u001B[43mname_or_obj\u001B[49m\u001B[43m,\u001B[49m\u001B[43m \u001B[49m\u001B[38;5;124;43m\"\u001B[39;49m\u001B[38;5;124;43mr\u001B[39;49m\u001B[38;5;124;43m\"\u001B[39;49m\u001B[43m)\u001B[49m\n\u001B[1;32m    354\u001B[0m \u001B[38;5;28;01mif\u001B[39;00m is_url \u001B[38;5;129;01mand\u001B[39;00m \u001B[38;5;129;01mnot\u001B[39;00m cache:\n\u001B[1;32m    355\u001B[0m     delete_fds\u001B[38;5;241m.\u001B[39mappend(fileobj)\n",
      "\u001B[0;31mFileNotFoundError\u001B[0m: [Errno 2] No such file or directory: 'Reference/CITau_200_-2.6_60_7_0.55'"
     ]
    }
   ],
   "source": [
    "data_to_write = Path('Reference/CITau_200_-2.6_60_7_0.55')\n",
    "# data_to_write = Path('fit/test/radmc_gas/13CO J=2-1_image.fits')\n",
    "file_to_modify = Path('observations_new/CITau/CO_cut.uvfits')\n",
    "\n",
    "model_visibilities = data_to_write.parents[1]  / f'{data_to_write.stem}_visibilities.uvfits'\n",
    "UVFits.write_visibilities_to_uvfits(data_to_write, file_to_modify, model_visibilities)\n",
    "\n",
    "script = str(\"\"\"\n",
    "                        FITS \"{input_file}\" TO \"{name}\"\n",
    "                        READ UV \"{name}\"\n",
    "                        UV_MAP\n",
    "                        CLEAN\n",
    "                        LUT {lut}\n",
    "                        ! VIEW CLEAN /NOPAUSE\n",
    "                        LET SIZE 10\n",
    "                        LET DO_CONTOUR NO\n",
    "                        SHOW CLEAN\n",
    "                        HARDCOPY \"{name}.{device}\" /DEVICE {device} /OVERWRITE\n",
    "                        WRITE CLEAN imaged\n",
    "                        FITS \"{name}.fits\" from imaged.lmv-clean /OVERWRITE\n",
    "\n",
    "                \"\"\")\n",
    "\n",
    "\n",
    "UVFits.run_imaging(model_visibilities, 'CO_cut', imager_executable=IMAGER_EXEC, script_template=script, device='png')"
   ],
   "metadata": {
    "collapsed": false,
    "ExecuteTime": {
     "end_time": "2023-08-05T07:58:50.540524Z",
     "start_time": "2023-08-05T07:58:40.182614Z"
    }
   }
  },
  {
   "cell_type": "markdown",
   "source": [
    "Read and clean uvt, save uvfits"
   ],
   "metadata": {
    "collapsed": false
   }
  },
  {
   "cell_type": "code",
   "execution_count": null,
   "outputs": [],
   "source": [
    "model_visibilities = 'observations_test/DNTau/s-Line-22-CO_1+D_cut.uvt'\n",
    "output = 'observations_test/DNTau/s-Line-22-CO_1+D_cut.uvt'\n",
    "\n",
    "script = str(\"\"\"\n",
    "                        READ UV \"{input_file}\"\n",
    "                        UV_MAP\n",
    "                        CLEAN\n",
    "                        LUT {lut}\n",
    "                        ! VIEW CLEAN /NOPAUSE\n",
    "                        LET SIZE 10\n",
    "                        LET DO_CONTOUR NO\n",
    "                        SHOW CLEAN\n",
    "                        HARDCOPY \"{name}.{device}\" /DEVICE {device} /OVERWRITE\n",
    "                        WRITE UV \"{name}\"\n",
    "                        FITS \"{name}.uvfits\" FROM \"{name}.uvt\" /OVERWRITE /STYLE CASA\n",
    "\n",
    "                \"\"\")\n",
    "\n",
    "UVFits.run_imaging(model_visibilities, output, imager_executable=IMAGER_EXEC, script_template=script, device='png',)"
   ],
   "metadata": {
    "collapsed": false,
    "ExecuteTime": {
     "start_time": "2023-08-05T07:58:40.332512Z"
    }
   }
  }
 ],
 "metadata": {
  "kernelspec": {
   "name": "diskchef",
   "language": "python",
   "display_name": "diskchef"
  },
  "language_info": {
   "codemirror_mode": {
    "name": "ipython",
    "version": 2
   },
   "file_extension": ".py",
   "mimetype": "text/x-python",
   "name": "python",
   "nbconvert_exporter": "python",
   "pygments_lexer": "ipython2",
   "version": "2.7.6"
  }
 },
 "nbformat": 4,
 "nbformat_minor": 0
}
